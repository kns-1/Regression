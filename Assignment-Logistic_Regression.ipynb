{
 "cells": [
  {
   "cell_type": "code",
   "execution_count": 23,
   "metadata": {
    "collapsed": true
   },
   "outputs": [],
   "source": [
    "import numpy as np\n",
    "import matplotlib.pyplot as pp\n",
    "from sklearn import linear_model"
   ]
  },
  {
   "cell_type": "code",
   "execution_count": 26,
   "metadata": {},
   "outputs": [
    {
     "name": "stdout",
     "output_type": "stream",
     "text": [
      "[[ 7.62115459]\n",
      " [ 1.19630112]\n",
      " [ 3.53380644]\n",
      " [ 9.25439181]\n",
      " [ 7.11829494]\n",
      " [-0.39419152]\n",
      " [ 3.67626798]\n",
      " [-0.37559365]\n",
      " [ 0.47366376]\n",
      " [ 2.08654845]\n",
      " [ 1.13644197]\n",
      " [ 6.08890743]\n",
      " [ 2.7857832 ]\n",
      " [ 1.05971955]\n",
      " [ 1.69505192]\n",
      " [ 1.57543423]\n",
      " [ 6.26049188]\n",
      " [-0.25166129]\n",
      " [ 1.43649462]\n",
      " [-0.57743374]\n",
      " [-2.44006216]\n",
      " [ 2.28465414]\n",
      " [ 3.54721625]\n",
      " [-0.34424925]\n",
      " [ 8.87064814]\n",
      " [-1.49925604]\n",
      " [ 0.052488  ]\n",
      " [ 0.36759527]\n",
      " [ 6.33280528]\n",
      " [ 5.99967363]\n",
      " [ 0.38881488]\n",
      " [ 1.67442484]\n",
      " [-1.09008555]\n",
      " [-1.9712473 ]\n",
      " [-0.53866597]\n",
      " [ 0.82832586]\n",
      " [ 5.09413997]\n",
      " [ 4.74702977]\n",
      " [-0.2685248 ]\n",
      " [-0.6302212 ]\n",
      " [-1.49593024]\n",
      " [-1.28820043]\n",
      " [-1.65626814]\n",
      " [ 7.99361101]\n",
      " [ 0.20529125]\n",
      " [-0.15473046]\n",
      " [-1.52664203]\n",
      " [ 3.44506631]\n",
      " [-2.00867007]\n",
      " [-0.35121566]\n",
      " [-0.91593904]\n",
      " [ 2.06161281]\n",
      " [-0.73423158]\n",
      " [-1.42856375]\n",
      " [-0.05771799]\n",
      " [ 1.514284  ]\n",
      " [ 0.60405967]\n",
      " [ 0.88590814]\n",
      " [-0.97856269]\n",
      " [-0.49408718]\n",
      " [-0.82187018]\n",
      " [ 0.21930645]\n",
      " [-0.52832004]\n",
      " [-1.70001723]\n",
      " [ 0.34207391]\n",
      " [-0.14847204]\n",
      " [-1.93026295]\n",
      " [ 1.38769769]\n",
      " [-0.55088943]\n",
      " [ 0.30286437]\n",
      " [ 3.1926199 ]\n",
      " [ 0.61154994]\n",
      " [ 4.81465192]\n",
      " [-1.4301335 ]\n",
      " [ 1.29909371]\n",
      " [-0.48033174]\n",
      " [-1.11182005]\n",
      " [-0.7857146 ]\n",
      " [-0.44821228]\n",
      " [ 0.22990512]\n",
      " [-1.27134801]\n",
      " [ 3.19082056]\n",
      " [ 1.66956424]\n",
      " [-2.20326463]\n",
      " [ 6.14057821]\n",
      " [ 7.10293941]\n",
      " [ 4.38380328]\n",
      " [-0.16427531]\n",
      " [-1.29262152]\n",
      " [ 4.68071129]\n",
      " [-0.79103402]\n",
      " [ 4.96989554]\n",
      " [ 0.82131507]\n",
      " [ 3.5561281 ]\n",
      " [ 1.58244859]\n",
      " [ 2.77482877]\n",
      " [ 0.27353725]\n",
      " [ 7.39053322]\n",
      " [ 1.15661916]\n",
      " [ 2.00891584]]\n"
     ]
    }
   ],
   "source": [
    "xmin, xmax = -5, 5\n",
    "n_samples = 100\n",
    "np.random.seed(0)\n",
    "X = np.random.normal(size=n_samples)\n",
    "y = (X > 0).astype(np.float)\n",
    "X[X > 0] *= 4\n",
    "X += .3 * np.random.normal(size=n_samples)\n",
    "\n",
    "X = X[:, np.newaxis]\n",
    "\n",
    "print(X)"
   ]
  },
  {
   "cell_type": "code",
   "execution_count": 27,
   "metadata": {},
   "outputs": [
    {
     "data": {
      "text/plain": [
       "LogisticRegression(C=100000.0, class_weight=None, dual=False,\n",
       "          fit_intercept=True, intercept_scaling=1, max_iter=100,\n",
       "          multi_class='ovr', n_jobs=1, penalty='l2', random_state=None,\n",
       "          solver='liblinear', tol=0.0001, verbose=0, warm_start=False)"
      ]
     },
     "execution_count": 27,
     "metadata": {},
     "output_type": "execute_result"
    }
   ],
   "source": [
    "reg = linear_model.LogisticRegression(C=1e5)\n",
    "reg.fit(X, y)"
   ]
  },
  {
   "cell_type": "code",
   "execution_count": 35,
   "metadata": {},
   "outputs": [
    {
     "data": {
      "text/plain": [
       "array([ -5.        ,  -4.94983278,  -4.89966555,  -4.84949833,\n",
       "        -4.7993311 ,  -4.74916388,  -4.69899666,  -4.64882943,\n",
       "        -4.59866221,  -4.54849498,  -4.49832776,  -4.44816054,\n",
       "        -4.39799331,  -4.34782609,  -4.29765886,  -4.24749164,\n",
       "        -4.19732441,  -4.14715719,  -4.09698997,  -4.04682274,\n",
       "        -3.99665552,  -3.94648829,  -3.89632107,  -3.84615385,\n",
       "        -3.79598662,  -3.7458194 ,  -3.69565217,  -3.64548495,\n",
       "        -3.59531773,  -3.5451505 ,  -3.49498328,  -3.44481605,\n",
       "        -3.39464883,  -3.34448161,  -3.29431438,  -3.24414716,\n",
       "        -3.19397993,  -3.14381271,  -3.09364548,  -3.04347826,\n",
       "        -2.99331104,  -2.94314381,  -2.89297659,  -2.84280936,\n",
       "        -2.79264214,  -2.74247492,  -2.69230769,  -2.64214047,\n",
       "        -2.59197324,  -2.54180602,  -2.4916388 ,  -2.44147157,\n",
       "        -2.39130435,  -2.34113712,  -2.2909699 ,  -2.24080268,\n",
       "        -2.19063545,  -2.14046823,  -2.090301  ,  -2.04013378,\n",
       "        -1.98996656,  -1.93979933,  -1.88963211,  -1.83946488,\n",
       "        -1.78929766,  -1.73913043,  -1.68896321,  -1.63879599,\n",
       "        -1.58862876,  -1.53846154,  -1.48829431,  -1.43812709,\n",
       "        -1.38795987,  -1.33779264,  -1.28762542,  -1.23745819,\n",
       "        -1.18729097,  -1.13712375,  -1.08695652,  -1.0367893 ,\n",
       "        -0.98662207,  -0.93645485,  -0.88628763,  -0.8361204 ,\n",
       "        -0.78595318,  -0.73578595,  -0.68561873,  -0.63545151,\n",
       "        -0.58528428,  -0.53511706,  -0.48494983,  -0.43478261,\n",
       "        -0.38461538,  -0.33444816,  -0.28428094,  -0.23411371,\n",
       "        -0.18394649,  -0.13377926,  -0.08361204,  -0.03344482,\n",
       "         0.01672241,   0.06688963,   0.11705686,   0.16722408,\n",
       "         0.2173913 ,   0.26755853,   0.31772575,   0.36789298,\n",
       "         0.4180602 ,   0.46822742,   0.51839465,   0.56856187,\n",
       "         0.6187291 ,   0.66889632,   0.71906355,   0.76923077,\n",
       "         0.81939799,   0.86956522,   0.91973244,   0.96989967,\n",
       "         1.02006689,   1.07023411,   1.12040134,   1.17056856,\n",
       "         1.22073579,   1.27090301,   1.32107023,   1.37123746,\n",
       "         1.42140468,   1.47157191,   1.52173913,   1.57190635,\n",
       "         1.62207358,   1.6722408 ,   1.72240803,   1.77257525,\n",
       "         1.82274247,   1.8729097 ,   1.92307692,   1.97324415,\n",
       "         2.02341137,   2.0735786 ,   2.12374582,   2.17391304,\n",
       "         2.22408027,   2.27424749,   2.32441472,   2.37458194,\n",
       "         2.42474916,   2.47491639,   2.52508361,   2.57525084,\n",
       "         2.62541806,   2.67558528,   2.72575251,   2.77591973,\n",
       "         2.82608696,   2.87625418,   2.9264214 ,   2.97658863,\n",
       "         3.02675585,   3.07692308,   3.1270903 ,   3.17725753,\n",
       "         3.22742475,   3.27759197,   3.3277592 ,   3.37792642,\n",
       "         3.42809365,   3.47826087,   3.52842809,   3.57859532,\n",
       "         3.62876254,   3.67892977,   3.72909699,   3.77926421,\n",
       "         3.82943144,   3.87959866,   3.92976589,   3.97993311,\n",
       "         4.03010033,   4.08026756,   4.13043478,   4.18060201,\n",
       "         4.23076923,   4.28093645,   4.33110368,   4.3812709 ,\n",
       "         4.43143813,   4.48160535,   4.53177258,   4.5819398 ,\n",
       "         4.63210702,   4.68227425,   4.73244147,   4.7826087 ,\n",
       "         4.83277592,   4.88294314,   4.93311037,   4.98327759,\n",
       "         5.03344482,   5.08361204,   5.13377926,   5.18394649,\n",
       "         5.23411371,   5.28428094,   5.33444816,   5.38461538,\n",
       "         5.43478261,   5.48494983,   5.53511706,   5.58528428,\n",
       "         5.63545151,   5.68561873,   5.73578595,   5.78595318,\n",
       "         5.8361204 ,   5.88628763,   5.93645485,   5.98662207,\n",
       "         6.0367893 ,   6.08695652,   6.13712375,   6.18729097,\n",
       "         6.23745819,   6.28762542,   6.33779264,   6.38795987,\n",
       "         6.43812709,   6.48829431,   6.53846154,   6.58862876,\n",
       "         6.63879599,   6.68896321,   6.73913043,   6.78929766,\n",
       "         6.83946488,   6.88963211,   6.93979933,   6.98996656,\n",
       "         7.04013378,   7.090301  ,   7.14046823,   7.19063545,\n",
       "         7.24080268,   7.2909699 ,   7.34113712,   7.39130435,\n",
       "         7.44147157,   7.4916388 ,   7.54180602,   7.59197324,\n",
       "         7.64214047,   7.69230769,   7.74247492,   7.79264214,\n",
       "         7.84280936,   7.89297659,   7.94314381,   7.99331104,\n",
       "         8.04347826,   8.09364548,   8.14381271,   8.19397993,\n",
       "         8.24414716,   8.29431438,   8.34448161,   8.39464883,\n",
       "         8.44481605,   8.49498328,   8.5451505 ,   8.59531773,\n",
       "         8.64548495,   8.69565217,   8.7458194 ,   8.79598662,\n",
       "         8.84615385,   8.89632107,   8.94648829,   8.99665552,\n",
       "         9.04682274,   9.09698997,   9.14715719,   9.19732441,\n",
       "         9.24749164,   9.29765886,   9.34782609,   9.39799331,\n",
       "         9.44816054,   9.49832776,   9.54849498,   9.59866221,\n",
       "         9.64882943,   9.69899666,   9.74916388,   9.7993311 ,\n",
       "         9.84949833,   9.89966555,   9.94983278,  10.        ])"
      ]
     },
     "execution_count": 35,
     "metadata": {},
     "output_type": "execute_result"
    }
   ],
   "source": [
    "pp.figure(1, figsize=(4, 3))\n",
    "pp.clf()\n",
    "pp.scatter(X.ravel(), y, color='black', zorder=20)\n",
    "X_test = np.linspace(-5, 10, 300)\n",
    "X_test"
   ]
  },
  {
   "cell_type": "code",
   "execution_count": 36,
   "metadata": {},
   "outputs": [
    {
     "data": {
      "image/png": "[encoded data removed]",
      "text/plain": [
       "<matplotlib.figure.Figure at 0x2d92c701f98>"
      ]
     },
     "metadata": {},
     "output_type": "display_data"
    }
   ],
   "source": [
    "def model(x):\n",
    "    return 1 / (1 + np.exp(-x))\n",
    "loss = model(X_test * reg.coef_ + reg.intercept_).ravel()\n",
    "pp.plot(X_test, loss, color='red', linewidth=3)\n",
    "pp.show()"
   ]
  },
  {
   "cell_type": "code",
   "execution_count": null,
   "metadata": {},
   "outputs": [],
   "source": []
  },
  {
   "cell_type": "code",
   "execution_count": null,
   "metadata": {
    "collapsed": true
   },
   "outputs": [],
   "source": []
  }
 ],
 "metadata": {
  "kernelspec": {
   "display_name": "Python 3",
   "language": "python",
   "name": "python3"
  },
  "language_info": {
   "codemirror_mode": {
    "name": "ipython",
    "version": 3
   },
   "file_extension": ".py",
   "mimetype": "text/x-python",
   "name": "python",
   "nbconvert_exporter": "python",
   "pygments_lexer": "ipython3",
   "version": "3.6.1"
  }
 },
 "nbformat": 4,
 "nbformat_minor": 2
}
