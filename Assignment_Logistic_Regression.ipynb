{
 "cells": [
  {
   "cell_type": "code",
   "execution_count": 1,
   "metadata": {
    "collapsed": true
   },
   "outputs": [],
   "source": [
    "import numpy as np\n",
    "from matplotlib import pyplot as pp\n",
    "from sklearn import linear_model, datasets"
   ]
  },
  {
   "cell_type": "code",
   "execution_count": 2,
   "metadata": {},
   "outputs": [
    {
     "data": {
      "text/plain": [
       "{'DESCR': 'Linnerrud dataset\\n=================\\n\\nNotes\\n-----\\nData Set Characteristics:\\n    :Number of Instances: 20\\n    :Number of Attributes: 3\\n    :Missing Attribute Values: None\\n\\nThe Linnerud dataset constains two small dataset:\\n\\n- *exercise*: A list containing the following components: exercise data with\\n  20 observations on 3 exercise variables: Weight, Waist and Pulse.\\n\\n- *physiological*: Data frame with 20 observations on 3 physiological variables:\\n   Chins, Situps and Jumps.\\n\\nReferences\\n----------\\n  * Tenenhaus, M. (1998). La regression PLS: theorie et pratique. Paris: Editions Technic.\\n',\n",
       " 'data': array([[   5.,  162.,   60.],\n",
       "        [   2.,  110.,   60.],\n",
       "        [  12.,  101.,  101.],\n",
       "        [  12.,  105.,   37.],\n",
       "        [  13.,  155.,   58.],\n",
       "        [   4.,  101.,   42.],\n",
       "        [   8.,  101.,   38.],\n",
       "        [   6.,  125.,   40.],\n",
       "        [  15.,  200.,   40.],\n",
       "        [  17.,  251.,  250.],\n",
       "        [  17.,  120.,   38.],\n",
       "        [  13.,  210.,  115.],\n",
       "        [  14.,  215.,  105.],\n",
       "        [   1.,   50.,   50.],\n",
       "        [   6.,   70.,   31.],\n",
       "        [  12.,  210.,  120.],\n",
       "        [   4.,   60.,   25.],\n",
       "        [  11.,  230.,   80.],\n",
       "        [  15.,  225.,   73.],\n",
       "        [   2.,  110.,   43.]]),\n",
       " 'feature_names': ['Chins', 'Situps', 'Jumps'],\n",
       " 'target': array([[ 191.,   36.,   50.],\n",
       "        [ 189.,   37.,   52.],\n",
       "        [ 193.,   38.,   58.],\n",
       "        [ 162.,   35.,   62.],\n",
       "        [ 189.,   35.,   46.],\n",
       "        [ 182.,   36.,   56.],\n",
       "        [ 211.,   38.,   56.],\n",
       "        [ 167.,   34.,   60.],\n",
       "        [ 176.,   31.,   74.],\n",
       "        [ 154.,   33.,   56.],\n",
       "        [ 169.,   34.,   50.],\n",
       "        [ 166.,   33.,   52.],\n",
       "        [ 154.,   34.,   64.],\n",
       "        [ 247.,   46.,   50.],\n",
       "        [ 193.,   36.,   46.],\n",
       "        [ 202.,   37.,   62.],\n",
       "        [ 176.,   37.,   54.],\n",
       "        [ 157.,   32.,   52.],\n",
       "        [ 156.,   33.,   54.],\n",
       "        [ 138.,   33.,   68.]]),\n",
       " 'target_names': ['Weight', 'Waist', 'Pulse']}"
      ]
     },
     "execution_count": 2,
     "metadata": {},
     "output_type": "execute_result"
    }
   ],
   "source": [
    "lin=datasets.load_linnerud()\n",
    "lin"
   ]
  },
  {
   "cell_type": "code",
   "execution_count": 21,
   "metadata": {},
   "outputs": [
    {
     "name": "stdout",
     "output_type": "stream",
     "text": [
      "[[   5.  162.]\n",
      " [   2.  110.]\n",
      " [  12.  101.]\n",
      " [  12.  105.]\n",
      " [  13.  155.]\n",
      " [   4.  101.]\n",
      " [   8.  101.]\n",
      " [   6.  125.]\n",
      " [  15.  200.]\n",
      " [  17.  251.]\n",
      " [  17.  120.]\n",
      " [  13.  210.]\n",
      " [  14.  215.]\n",
      " [   1.   50.]\n",
      " [   6.   70.]\n",
      " [  12.  210.]\n",
      " [   4.   60.]\n",
      " [  11.  230.]\n",
      " [  15.  225.]\n",
      " [   2.  110.]]\n",
      "[ 50.  52.  58.  62.  46.  56.  56.  60.  74.  56.  50.  52.  64.  50.  46.\n",
      "  62.  54.  52.  54.  68.]\n"
     ]
    }
   ],
   "source": [
    "x=lin.data[:,:2]\n",
    "y=lin.target[:,-1]\n",
    "h=0.02 #stepsize\n",
    "print(x)\n",
    "print(y)"
   ]
  },
  {
   "cell_type": "code",
   "execution_count": 22,
   "metadata": {},
   "outputs": [
    {
     "data": {
      "text/plain": [
       "LogisticRegression(C=1.0, class_weight=None, dual=False, fit_intercept=True,\n",
       "          intercept_scaling=1, max_iter=100, multi_class='ovr', n_jobs=1,\n",
       "          penalty='l2', random_state=None, solver='liblinear', tol=0.0001,\n",
       "          verbose=0, warm_start=False)"
      ]
     },
     "execution_count": 22,
     "metadata": {},
     "output_type": "execute_result"
    }
   ],
   "source": [
    "reg = linear_model.LogisticRegression()\n",
    "reg.fit(x,y)"
   ]
  },
  {
   "cell_type": "code",
   "execution_count": 30,
   "metadata": {},
   "outputs": [
    {
     "name": "stdout",
     "output_type": "stream",
     "text": [
      "0.5 17.5\n",
      "49.5 251.5\n"
     ]
    }
   ],
   "source": [
    "x_min, x_max = x[:, 0].min() - .5, x[:, 0].max() + .5\n",
    "y_min, y_max = x[:, 1].min() - .5, x[:, 1].max() + .5\n",
    "print(x_min,x_max)\n",
    "print(y_min,y_max)"
   ]
  },
  {
   "cell_type": "code",
   "execution_count": 32,
   "metadata": {},
   "outputs": [
    {
     "name": "stdout",
     "output_type": "stream",
     "text": [
      "[[  0.5    0.52   0.54 ...,  17.44  17.46  17.48]\n",
      " [  0.5    0.52   0.54 ...,  17.44  17.46  17.48]\n",
      " [  0.5    0.52   0.54 ...,  17.44  17.46  17.48]\n",
      " ..., \n",
      " [  0.5    0.52   0.54 ...,  17.44  17.46  17.48]\n",
      " [  0.5    0.52   0.54 ...,  17.44  17.46  17.48]\n",
      " [  0.5    0.52   0.54 ...,  17.44  17.46  17.48]] [[  49.5    49.5    49.5  ...,   49.5    49.5    49.5 ]\n",
      " [  49.52   49.52   49.52 ...,   49.52   49.52   49.52]\n",
      " [  49.54   49.54   49.54 ...,   49.54   49.54   49.54]\n",
      " ..., \n",
      " [ 251.44  251.44  251.44 ...,  251.44  251.44  251.44]\n",
      " [ 251.46  251.46  251.46 ...,  251.46  251.46  251.46]\n",
      " [ 251.48  251.48  251.48 ...,  251.48  251.48  251.48]]\n",
      "[ 68.  68.  68. ...,  56.  56.  56.]\n"
     ]
    }
   ],
   "source": [
    "xx, yy = np.meshgrid(np.arange(x_min, x_max, h), np.arange(y_min, y_max, h))\n",
    "z = reg.predict(np.c_[xx.ravel(), yy.ravel()])\n",
    "print(xx,yy)\n",
    "print(z)"
   ]
  },
  {
   "cell_type": "code",
   "execution_count": 33,
   "metadata": {},
   "outputs": [
    {
     "data": {
      "text/plain": [
       "array([[ 68.,  68.,  68., ...,  58.,  58.,  58.],\n",
       "       [ 68.,  68.,  68., ...,  58.,  58.,  58.],\n",
       "       [ 68.,  68.,  68., ...,  58.,  58.,  58.],\n",
       "       ..., \n",
       "       [ 52.,  52.,  52., ...,  56.,  56.,  56.],\n",
       "       [ 52.,  52.,  52., ...,  56.,  56.,  56.],\n",
       "       [ 52.,  52.,  52., ...,  56.,  56.,  56.]])"
      ]
     },
     "execution_count": 33,
     "metadata": {},
     "output_type": "execute_result"
    }
   ],
   "source": [
    "# Put the result into a color plot\n",
    "z = z.reshape(xx.shape)\n",
    "z"
   ]
  },
  {
   "cell_type": "code",
   "execution_count": 36,
   "metadata": {},
   "outputs": [
    {
     "data": {
      "image/png": "[encoded data removed]",
      "text/plain": [
       "<matplotlib.figure.Figure at 0x26f8842cfd0>"
      ]
     },
     "metadata": {},
     "output_type": "display_data"
    }
   ],
   "source": [
    "pp.figure(1, figsize=(4, 3))\n",
    "pp.pcolormesh(xx, yy, z, cmap=pp.cm.Paired)\n",
    "\n",
    "pp.scatter(x[:, 0], x[:, 1],c=y, edgecolors='k', cmap=pp.cm.Paired)\n",
    "\n",
    "\n",
    "pp.xlim(xx.min(), xx.max())\n",
    "pp.ylim(yy.min(), yy.max())\n",
    "\n",
    "\n",
    "pp.show()"
   ]
  },
  {
   "cell_type": "code",
   "execution_count": null,
   "metadata": {
    "collapsed": true
   },
   "outputs": [],
   "source": []
  }
 ],
 "metadata": {
  "kernelspec": {
   "display_name": "Python 3",
   "language": "python",
   "name": "python3"
  },
  "language_info": {
   "codemirror_mode": {
    "name": "ipython",
    "version": 3
   },
   "file_extension": ".py",
   "mimetype": "text/x-python",
   "name": "python",
   "nbconvert_exporter": "python",
   "pygments_lexer": "ipython3",
   "version": "3.6.1"
  }
 },
 "nbformat": 4,
 "nbformat_minor": 2
}
